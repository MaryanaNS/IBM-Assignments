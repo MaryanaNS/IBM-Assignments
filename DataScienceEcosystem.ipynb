{
 "cells": [
  {
   "cell_type": "markdown",
   "id": "d6e21c9e-41b5-485e-ab42-0810e6df9d6f",
   "metadata": {
    "tags": []
   },
   "source": [
    "# Data Science Tools and Ecosystem"
   ]
  },
  {
   "cell_type": "markdown",
   "id": "fba822c4-35ed-4b99-9b0b-2444ef5745ec",
   "metadata": {},
   "source": [
    "This notebook will provide a summary of Data Science Tools and Ecosystem."
   ]
  },
  {
   "cell_type": "markdown",
   "id": "93305e24-7788-4fd6-b807-84d299e27e73",
   "metadata": {},
   "source": [
    "**Objectives:**"
   ]
  },
  {
   "cell_type": "markdown",
   "id": "c13d82b4-8f52-469d-887e-81ede3453abe",
   "metadata": {},
   "source": [
    "* List popular languages for Data Science\n",
    "* List popular libraries for Data Science\n",
    "* List development environment open source tools used in Data Science\n",
    "* Show arithmetic expression examples"
   ]
  },
  {
   "cell_type": "markdown",
   "id": "61cce3a8-5321-4654-8319-c5cc91dbd303",
   "metadata": {},
   "source": [
    "The most common languages used for Data Science purposes are:"
   ]
  },
  {
   "cell_type": "markdown",
   "id": "7cb33099-81f4-4936-a4b1-2aae14ff7e3b",
   "metadata": {},
   "source": [
    "1. Python\n",
    "2. R\n",
    "3. SQL\n",
    "4. Scala\n",
    "5. Java\n",
    "6. C++\n",
    "7. Julia"
   ]
  },
  {
   "cell_type": "markdown",
   "id": "930f2621-b302-4a1e-b4b6-0dd5d06534f2",
   "metadata": {},
   "source": [
    "Some of the commonly used libraries by Data Scientists include:"
   ]
  },
  {
   "cell_type": "markdown",
   "id": "9508910a-004e-4dc3-ad9b-7cb5c8047b67",
   "metadata": {},
   "source": [
    "1. Pandas\n",
    "2. NumPy\n",
    "3. Matplotlib\n",
    "4. Scikit-learn\n",
    "5. TensorFlow\n",
    "6. Apache Spark\n",
    "7. ggplot2"
   ]
  },
  {
   "cell_type": "markdown",
   "id": "04f458c8-cbbc-46c3-9fd1-02259b482eca",
   "metadata": {},
   "source": [
    "|Data Science Tools|\n",
    "--------------------\n",
    "|Jupyter|\n",
    "|Apache Zeppelin|\n",
    "|RStudio|"
   ]
  },
  {
   "cell_type": "markdown",
   "id": "c20fd099-2796-459a-93e0-ccf6e8373deb",
   "metadata": {
    "tags": []
   },
   "source": [
    "### Below are a few examples of evaluating arithmetic expressions in Python"
   ]
  },
  {
   "cell_type": "markdown",
   "id": "96f0d08c-1690-45ac-b422-cd1d6ab3ba5a",
   "metadata": {},
   "source": [
    "This a simple arithmetic expression to mutiply then add integers."
   ]
  },
  {
   "cell_type": "code",
   "execution_count": 3,
   "id": "e5da12fa-71fa-4e64-be05-9263e50f7f48",
   "metadata": {
    "tags": []
   },
   "outputs": [
    {
     "data": {
      "text/plain": [
       "17"
      ]
     },
     "execution_count": 3,
     "metadata": {},
     "output_type": "execute_result"
    }
   ],
   "source": [
    "(3*4)+5"
   ]
  },
  {
   "cell_type": "markdown",
   "id": "319777b0-7651-4f1c-a08d-ef5e2352144a",
   "metadata": {},
   "source": [
    "This will convert 200 minutes to hours by diving by 60."
   ]
  },
  {
   "cell_type": "code",
   "execution_count": 4,
   "id": "c94e99c0-e62a-4e8b-9a09-2057cdd770f0",
   "metadata": {
    "tags": []
   },
   "outputs": [
    {
     "data": {
      "text/plain": [
       "3.3333333333333335"
      ]
     },
     "execution_count": 4,
     "metadata": {},
     "output_type": "execute_result"
    }
   ],
   "source": [
    "200/60"
   ]
  },
  {
   "cell_type": "markdown",
   "id": "4bbfdd75-344f-4e70-a1ab-a34ac666728e",
   "metadata": {
    "tags": []
   },
   "source": [
    "\n",
    "## Author"
   ]
  },
  {
   "cell_type": "markdown",
   "id": "db73eb25-6751-435e-93c7-77d8676846a0",
   "metadata": {},
   "source": [
    "Maryana Nascimento"
   ]
  }
 ],
 "metadata": {
  "kernelspec": {
   "display_name": "Python 3 (ipykernel)",
   "language": "python",
   "name": "python3"
  },
  "language_info": {
   "codemirror_mode": {
    "name": "ipython",
    "version": 3
   },
   "file_extension": ".py",
   "mimetype": "text/x-python",
   "name": "python",
   "nbconvert_exporter": "python",
   "pygments_lexer": "ipython3",
   "version": "3.11.5"
  }
 },
 "nbformat": 4,
 "nbformat_minor": 5
}
